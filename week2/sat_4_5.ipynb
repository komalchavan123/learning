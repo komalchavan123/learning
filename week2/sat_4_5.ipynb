{
  "nbformat": 4,
  "nbformat_minor": 0,
  "metadata": {
    "colab": {
      "name": "sat 4/5.ipynb",
      "version": "0.3.2",
      "provenance": []
    },
    "kernelspec": {
      "name": "python3",
      "display_name": "Python 3"
    }
  },
  "cells": [
    {
      "cell_type": "code",
      "metadata": {
        "id": "tnd35FzXPV-6",
        "colab_type": "code",
        "colab": {
          "base_uri": "https://localhost:8080/",
          "height": 33
        },
        "outputId": "a36a5925-e5bf-42e6-e50f-4b86a174d5a4"
      },
      "source": [
        "a=1.5\n",
        "b=15.6\n",
        "c=b/a\n",
        "print(c)\n",
        "\n"
      ],
      "execution_count": 4,
      "outputs": [
        {
          "output_type": "stream",
          "text": [
            "10.4\n"
          ],
          "name": "stdout"
        }
      ]
    },
    {
      "cell_type": "code",
      "metadata": {
        "id": "KgpYCYywPfc9",
        "colab_type": "code",
        "colab": {
          "base_uri": "https://localhost:8080/",
          "height": 84
        },
        "outputId": "8e6fabbc-39b0-475c-d044-e42defd6085c"
      },
      "source": [
        "\n",
        "a=int(input(\"value for a\"))\n",
        "b=int(input(\"value for b\"))\n",
        "c=int(input(\"value for c\"))\n",
        "\n",
        "if(a==b | b==c):\n",
        "    print(\"good\")\n",
        "else:\n",
        "    print(\"bad\")"
      ],
      "execution_count": 2,
      "outputs": [
        {
          "output_type": "stream",
          "text": [
            "value for a50\n",
            "value for b50\n",
            "value for c50\n",
            "good\n"
          ],
          "name": "stdout"
        }
      ]
    }
  ]
}