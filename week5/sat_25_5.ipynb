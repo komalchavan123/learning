{
  "nbformat": 4,
  "nbformat_minor": 0,
  "metadata": {
    "colab": {
      "name": "sat 25/5.ipynb",
      "version": "0.3.2",
      "provenance": []
    },
    "kernelspec": {
      "name": "python3",
      "display_name": "Python 3"
    }
  },
  "cells": [
    {
      "cell_type": "code",
      "metadata": {
        "id": "DzDEFg6WHA-R",
        "colab_type": "code",
        "outputId": "74c3da1d-93de-45a2-ef17-b34f614c31f9",
        "colab": {
          "base_uri": "https://localhost:8080/",
          "height": 67
        }
      },
      "source": [
        "x={\"ram\":[{\"empid\":215687,\"dob\":\"09/08/1996\",\"gender\":\"male\"}], \"laxman\":[{\"empid\":2156487,\"dob\":\"9/7/1996\",\"gender\":\"male\"}],\"charan\":[{\"empid\":2149687,\"dob\":\"15/8/1996\",\"gender\":\"female\"}]}\n",
        "for i in x.keys():\n",
        "  print(i)\n",
        "  \n"
      ],
      "execution_count": 0,
      "outputs": [
        {
          "output_type": "stream",
          "text": [
            "ram\n",
            "laxman\n",
            "charan\n"
          ],
          "name": "stdout"
        }
      ]
    },
    {
      "cell_type": "code",
      "metadata": {
        "id": "uApyDHB6ZasJ",
        "colab_type": "code",
        "outputId": "de428209-dd79-4e3f-fbfd-d99ff29d0644",
        "colab": {
          "base_uri": "https://localhost:8080/",
          "height": 50
        }
      },
      "source": [
        "x={\"ram\":\"male\",\"laxman\":\"female\"}\n",
        "for k,v in x.items():\n",
        "  print(\"key:\"+k,\"value:\"+v)\n",
        " "
      ],
      "execution_count": 0,
      "outputs": [
        {
          "output_type": "stream",
          "text": [
            "key:ram value:male\n",
            "key:laxman value:female\n"
          ],
          "name": "stdout"
        }
      ]
    },
    {
      "cell_type": "code",
      "metadata": {
        "id": "V3kwH8EQb_Wb",
        "colab_type": "code",
        "outputId": "b1b30a11-db0d-4945-d1ec-768155b1c559",
        "colab": {
          "base_uri": "https://localhost:8080/",
          "height": 117
        }
      },
      "source": [
        "x={\"ram\":[{\"empid\":215687,\"dob\":\"09/08/1996\",\"gender\":\"male\"}], \"laxman\":[{\"empid\":2156487,\"dob\":\"9/7/1996\",\"gender\":\"male\"}],\"charan\":[{\"empid\":2149687,\"dob\":\"15/8/1996\",\"gender\":\"female\"}]}\n",
        "\n",
        "for k,v in x.items():\n",
        "  print(\"\\n\",k,v)\n"
      ],
      "execution_count": 0,
      "outputs": [
        {
          "output_type": "stream",
          "text": [
            "\n",
            " ram [{'empid': 215687, 'dob': '09/08/1996', 'gender': 'male'}]\n",
            "\n",
            " laxman [{'empid': 2156487, 'dob': '9/7/1996', 'gender': 'male'}]\n",
            "\n",
            " charan [{'empid': 2149687, 'dob': '15/8/1996', 'gender': 'female'}]\n"
          ],
          "name": "stdout"
        }
      ]
    },
    {
      "cell_type": "code",
      "metadata": {
        "id": "lBpEjwzmgwIr",
        "colab_type": "code",
        "outputId": "8758037c-8310-4748-afff-c7c566ce5df1",
        "colab": {
          "base_uri": "https://localhost:8080/",
          "height": 33
        }
      },
      "source": [
        "adh={\"name\":\"komal\",\"photo\":\"ganda\",\"address\":\"bhandup\",\"aadhar no.\":\"9030 7171 0309\",\"dob\":\"10/08/1996\"}\n",
        "print(adh)"
      ],
      "execution_count": 0,
      "outputs": [
        {
          "output_type": "stream",
          "text": [
            "{'name': 'komal', 'photo': 'ganda', 'address': 'bhandup', 'aadhar no.': '9030 7171 0309', 'dob': '10/08/1996'}\n"
          ],
          "name": "stdout"
        }
      ]
    },
    {
      "cell_type": "code",
      "metadata": {
        "id": "UyczrhYTlzIc",
        "colab_type": "code",
        "outputId": "c38f5b71-458a-49ae-945c-5f0cf5e9fa0b",
        "colab": {
          "base_uri": "https://localhost:8080/",
          "height": 33
        }
      },
      "source": [
        "import time\n",
        "import webbrowser\n",
        "\n",
        "initialcount=0\n",
        "totalbreak=3\n",
        "\n",
        "\n",
        "print(\"startbreakon\",time.ctime())\n",
        "\n",
        "while initialcount < totalbreak:\n",
        "     time.sleep(2)\n",
        "     webbrowser.open(\"https://www.youtube.com/watch?v=Wcq_tjtNnSc\")\n",
        "     initialcount=initialcount+1\n"
      ],
      "execution_count": 0,
      "outputs": [
        {
          "output_type": "stream",
          "text": [
            "startbreakon Sat May 25 11:10:21 2019\n"
          ],
          "name": "stdout"
        }
      ]
    },
    {
      "cell_type": "code",
      "metadata": {
        "id": "M36jEGVUl2aE",
        "colab_type": "code",
        "outputId": "4ec23610-874c-4931-abae-66d67c75ecb4",
        "colab": {
          "base_uri": "https://localhost:8080/",
          "height": 33
        }
      },
      "source": [
        "import random\n",
        "x=[10,25,34,44,5,68,7,88,9,10]\n",
        "y=len(x)\n",
        "i=random.randint(0,9)\n",
        "print(i)"
      ],
      "execution_count": 0,
      "outputs": [
        {
          "output_type": "stream",
          "text": [
            "8\n"
          ],
          "name": "stdout"
        }
      ]
    },
    {
      "cell_type": "code",
      "metadata": {
        "id": "I0_nhBSyw4v1",
        "colab_type": "code",
        "outputId": "f17faac3-37fd-481f-ce76-d459a67c4a88",
        "colab": {
          "base_uri": "https://localhost:8080/",
          "height": 70
        }
      },
      "source": [
        "import random\n",
        "x=[\"https://www.youtube.com/watch?v=7FVxn-D2Z4M\",\"https://www.youtube.com/watch?v=Uvj827SqHak\",\"https://www.youtube.com/watch?v=WnU0lH6C0EA\",\"https://www.youtube.com/watch?v=CtgD91Ev4NU\",\"https://www.youtube.com/watch?v=f1qz8vn3XbY\",\"https://www.youtube.com/watch?v=lW8vW4eOS1w&t=1s\",\"https://www.youtube.com/watch?v=DK_UsATwoxI\",\"https://www.youtube.com/watch?v=cYOB941gyXI\",\"https://www.youtube.com/watch?v=EatzcaVJRMs\",\"https://www.youtube.com/watch?v=8v-TWxPWIWc\",\"https://www.youtube.com/watch?v=Q2TUpnY4CeI\",\"https://www.youtube.com/watch?v=bOzo_RvP5iI\",\"https://www.youtube.com/watch?v=nt5mJwO9zao\"]\n",
        "import time\n",
        "import random\n",
        "import webbrowser\n",
        "\n",
        "y=len(x)\n",
        "print(y)\n",
        "'''z=random.randint(0,13)\n",
        "\n",
        "initialcount=0\n",
        "totalbreak=3\n",
        "\n",
        "\n",
        "print(\"startbreakon\",time.ctime())\n",
        "\n",
        "while initialcount < totalbreak:\n",
        "     time.sleep(60)\n",
        "     webbrowser.open(x)\n",
        "     initialcount=initialcount+1'''\n",
        "\n",
        "\n",
        "\n"
      ],
      "execution_count": 0,
      "outputs": [
        {
          "output_type": "stream",
          "text": [
            "13\n"
          ],
          "name": "stdout"
        },
        {
          "output_type": "execute_result",
          "data": {
            "text/plain": [
              "'z=random.randint(0,13)\\n\\ninitialcount=0\\ntotalbreak=3\\n\\n\\nprint(\"startbreakon\",time.ctime())\\n\\nwhile initialcount < totalbreak:\\n     time.sleep(60)\\n     webbrowser.open(x)\\n     initialcount=initialcount+1'"
            ]
          },
          "metadata": {
            "tags": []
          },
          "execution_count": 33
        }
      ]
    },
    {
      "cell_type": "code",
      "metadata": {
        "id": "9GvcB53E2rqg",
        "colab_type": "code",
        "colab": {}
      },
      "source": [
        "class car:\n",
        "  \n",
        "  def __init__(self,color,body,wheels,doors,seat,engine,no_of_wheels):\n",
        "    self.color=color\n",
        "    self.body=body\n",
        "    self.wheels=wheels\n",
        "    self.doors=doors\n",
        "    self.seat=seat\n",
        "    self.engine=engine\n",
        "    self.no_of_wheels=no_of_wheels\n",
        "                  \n",
        "  def horn(self):\n",
        "    print(\"peeee\")\n",
        "      \n",
        "\n",
        "kcar=car(\"white\",\"metalic\",\"v-grrove\",\"vertical\",\"leather\",\"electrical\",\"4\")\n"
      ],
      "execution_count": 0,
      "outputs": []
    },
    {
      "cell_type": "code",
      "metadata": {
        "id": "i9XdEr8hDkpE",
        "colab_type": "code",
        "outputId": "ed18efb0-7715-4f8d-843f-42c3889f13ec",
        "colab": {
          "base_uri": "https://localhost:8080/",
          "height": 33
        }
      },
      "source": [
        "kcar.horn()"
      ],
      "execution_count": 0,
      "outputs": [
        {
          "output_type": "stream",
          "text": [
            "peeee\n"
          ],
          "name": "stdout"
        }
      ]
    },
    {
      "cell_type": "code",
      "metadata": {
        "id": "I1wF6VYlBW_k",
        "colab_type": "code",
        "outputId": "b5fb0a99-ecd4-4ba3-9491-a778302b8f28",
        "colab": {
          "base_uri": "https://localhost:8080/",
          "height": 33
        }
      },
      "source": [
        "class animal:\n",
        "  def __init__(self,color,name,no_of_legs,tail):\n",
        "    self.color=color\n",
        "    self.name=name\n",
        "    self.no_of_legs=no_of_legs\n",
        "    self.tail=tail\n",
        "    \n",
        "  def dog_noise(self):\n",
        "    print(\"bhowbhow\")\n",
        "    \n",
        "  def cat_noise(self):\n",
        "    print(\"mowmow\")\n",
        "    \n",
        "    \n",
        "nanimal=animal(\"white\",\"D\",\"4\",\"s\")\n",
        "nanimal.color\n",
        "  \n",
        "    \n",
        "     "
      ],
      "execution_count": 0,
      "outputs": [
        {
          "output_type": "execute_result",
          "data": {
            "text/plain": [
              "'white'"
            ]
          },
          "metadata": {
            "tags": []
          },
          "execution_count": 65
        }
      ]
    },
    {
      "cell_type": "code",
      "metadata": {
        "id": "9BpMud2C9W5x",
        "colab_type": "code",
        "outputId": "410b1de0-076a-4c0a-a8be-bdc76f08ef4c",
        "colab": {
          "base_uri": "https://localhost:8080/",
          "height": 67
        }
      },
      "source": [
        "class complexno:\n",
        "  def __init__(self,x,y):\n",
        "    self.x=x\n",
        "    self.y=y\n",
        "    \n",
        "  def complexno(self):\n",
        "    print(self.x ,\"+\" ,self.y,\"i\")\n",
        "    \n",
        "a=complexno(3,2)\n",
        "a.complexno()\n",
        "\n",
        "b=complexno(11,6)\n",
        "b.complexno()\n",
        "\n",
        "c=complexno(2,9)\n",
        "c.complexno()"
      ],
      "execution_count": 0,
      "outputs": [
        {
          "output_type": "stream",
          "text": [
            "3 + 2 i\n",
            "11 + 6 i\n",
            "2 + 9 i\n"
          ],
          "name": "stdout"
        }
      ]
    }
  ]
}