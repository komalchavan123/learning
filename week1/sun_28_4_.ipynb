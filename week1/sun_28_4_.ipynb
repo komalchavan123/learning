{
  "nbformat": 4,
  "nbformat_minor": 0,
  "metadata": {
    "colab": {
      "name": "sun 28/4 .ipynb",
      "version": "0.3.2",
      "provenance": []
    },
    "kernelspec": {
      "name": "python3",
      "display_name": "Python 3"
    }
  },
  "cells": [
    {
      "cell_type": "code",
      "metadata": {
        "id": "KFMc-1eOLer6",
        "colab_type": "code",
        "colab": {
          "base_uri": "https://localhost:8080/",
          "height": 33
        },
        "outputId": "74e3d85e-1bf1-400e-cb88-b5b061ee3c2d"
      },
      "source": [
        "#colab introduction\n",
        "\n",
        "print(\"hello world\")"
      ],
      "execution_count": 1,
      "outputs": [
        {
          "output_type": "stream",
          "text": [
            "hello world\n"
          ],
          "name": "stdout"
        }
      ]
    },
    {
      "cell_type": "markdown",
      "metadata": {
        "id": "t-pPPY7FLnpz",
        "colab_type": "text"
      },
      "source": [
        "#test\n",
        "this is just tset document for getting training"
      ]
    },
    {
      "cell_type": "code",
      "metadata": {
        "id": "F90BCl5XL33H",
        "colab_type": "code",
        "colab": {
          "base_uri": "https://localhost:8080/",
          "height": 117
        },
        "outputId": "f24813b0-632d-443b-8c7f-6761c8932df7"
      },
      "source": [
        "#using arthmatic operator\n",
        "\n",
        "a=int(input(\"enter first value\"))\n",
        "b=int(input(\"write second value\"))\n",
        "c=a+b\n",
        "d=a-b\n",
        "e=a*b\n",
        "g=a/b\n",
        "print(\"the sum of no. is\",c)\n",
        "print(\"the sub of no. is\",d)\n",
        "print(\"the mul of no. is\",e)\n",
        "print(\"the div of no. is\",g)\n",
        "\n"
      ],
      "execution_count": 2,
      "outputs": [
        {
          "output_type": "stream",
          "text": [
            "enter first value30\n",
            "write second value20\n",
            "the sum of no. is 50\n",
            "the sub of no. is 10\n",
            "the mul of no. is 600\n",
            "the div of no. is 1.5\n"
          ],
          "name": "stdout"
        }
      ]
    },
    {
      "cell_type": "code",
      "metadata": {
        "id": "fdzAT8NnL-JU",
        "colab_type": "code",
        "colab": {
          "base_uri": "https://localhost:8080/",
          "height": 67
        },
        "outputId": "17abc0b9-be7d-43ce-f71f-81d2628890ce"
      },
      "source": [
        "#how to use format function\n",
        "\n",
        "a=int(input(\"enter first value\"))\n",
        "b=int(input(\"write second value\"))\n",
        "c=a+b\n",
        "d=a-b\n",
        "e=a*b\n",
        "g=a/b\n",
        "print(\"c is {},d is {},e is {},g is {}\".format(c,d,e,g))\n",
        "\n"
      ],
      "execution_count": 4,
      "outputs": [
        {
          "output_type": "stream",
          "text": [
            "enter first value23\n",
            "write second value265\n",
            "c is 288,d is -242,e is 6095,g is 0.08679245283018867\n"
          ],
          "name": "stdout"
        }
      ]
    },
    {
      "cell_type": "code",
      "metadata": {
        "id": "sRyMBk3fMim9",
        "colab_type": "code",
        "colab": {
          "base_uri": "https://localhost:8080/",
          "height": 33
        },
        "outputId": "46902cdd-4bc3-4d43-f323-f3329b22034e"
      },
      "source": [
        "x=2\n",
        "y=2\n",
        "z=(x==y)\n",
        "x=y\n",
        "print(type(x))"
      ],
      "execution_count": 5,
      "outputs": [
        {
          "output_type": "stream",
          "text": [
            "<class 'int'>\n"
          ],
          "name": "stdout"
        }
      ]
    },
    {
      "cell_type": "code",
      "metadata": {
        "id": "gaHmP3MSMvma",
        "colab_type": "code",
        "colab": {
          "base_uri": "https://localhost:8080/",
          "height": 84
        },
        "outputId": "aa366230-ab92-49f3-d8a9-12c4427964c8"
      },
      "source": [
        "x=int(input(\"enter first value\"))\n",
        "y=int(input(\"enter second value\"))\n",
        "z=int(input(\"enter third value\"))\n",
        "\n",
        "if(x>y): \n",
        "  if(z==x):\n",
        "    print(\"lol\")\n",
        "      \n",
        "else:\n",
        "  if(x<y):\n",
        "    if(z!=x):\n",
        "      print(\"d lol\")"
      ],
      "execution_count": 6,
      "outputs": [
        {
          "output_type": "stream",
          "text": [
            "enter first value20\n",
            "enter second value30\n",
            "enter third value50\n",
            "d lol\n"
          ],
          "name": "stdout"
        }
      ]
    }
  ]
}