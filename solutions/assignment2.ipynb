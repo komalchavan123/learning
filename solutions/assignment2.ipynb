{
  "nbformat": 4,
  "nbformat_minor": 0,
  "metadata": {
    "colab": {
      "name": "assignment2.ipynb",
      "version": "0.3.2",
      "provenance": []
    },
    "kernelspec": {
      "name": "python3",
      "display_name": "Python 3"
    }
  },
  "cells": [
    {
      "cell_type": "code",
      "metadata": {
        "id": "t8pj-Yjx3OmH",
        "colab_type": "code",
        "outputId": "808b86ab-2981-40d8-ee94-b2d3673f8abd",
        "colab": {
          "base_uri": "https://localhost:8080/",
          "height": 50
        }
      },
      "source": [
        "#2. Code to get Lines of source code in Facebook, Google, Youtube, Quora, Instagram\n",
        "\n",
        "x = input(\"enter your choice:\").capitalize\n",
        "\n",
        "def m_d(x):\n",
        "    if x == \"Youtube\":\n",
        "       print(\"{} has approx 62 millions lines of code\".format(x))\n",
        "\n",
        "    elif x == \"Google\":\n",
        "       print(\"{} has 2 billion lines of code\".format(x))\n",
        "\n",
        "    elif x == \"Insta\":\n",
        "       print(\"{} has *** lines of code\".format(x))\n",
        "\n",
        "    elif x == \"Quara\":\n",
        "       print(\"{} has *** lines of code\".format(x))\n",
        "\n",
        "    elif x == \"Facebook\":\n",
        "       print(\"{} has 2 bilion lines of code\".format(x))\n",
        "\n",
        "    else:\n",
        "       print(\"sry\")\n",
        "\n",
        "m_d(x)"
      ],
      "execution_count": 3,
      "outputs": [
        {
          "output_type": "stream",
          "text": [
            "enter your choice:jpo\n",
            "sry\n"
          ],
          "name": "stdout"
        }
      ]
    },
    {
      "cell_type": "code",
      "metadata": {
        "id": "RnlkeUypBWWd",
        "colab_type": "code",
        "colab": {
          "base_uri": "https://localhost:8080/",
          "height": 100
        },
        "outputId": "c14ec9d8-c38b-41e3-eba7-6ee11ed1a294"
      },
      "source": [
        "#4. Get Name, Date of Birth and Favorite month from user. Greet User with name and tell his/her age. Tell no. of days in birth month and month of interest.\n",
        "\n",
        "\n",
        "\n",
        "name = input(\"Enter Name: \")\n",
        "dob = input(\"Please Enter DOB in DDMMYYYY Format: \")\n",
        "fav_month = input(\"Please Enter Month of interest: \")\n",
        "\n",
        "year = int(dob[4:8])\n",
        "month = int(dob[2:4])\n",
        "\n",
        "def monthDays(name, month, year,fav_month):\n",
        "  print(f\"Hi! {name}\")\n",
        "  \n",
        "  if month==1 or month==3 or month==5 or month==7 or month==8 or month==10 or month==12:\n",
        "      for i in range(1,32):\n",
        "        print(i,end=\" \")\n",
        "  elif month==4 or month==6 or month==9 or month==11:\n",
        "      for i in range(1,31):\n",
        "        print(i,end=\" \")\n",
        "  elif month==2 and year % 4 == 0:\n",
        "      for i in range(1,30):\n",
        "        print(i,end=\" \")\n",
        "  elif month==2 and year % 4 != 0:\n",
        "      for i in range(1,29):\n",
        "        print(i,end=\" \")\n",
        "  elif month >12:\n",
        "    print(\"Please Give Proper Date of Birth\")\n",
        "    \n",
        "  if fav_month==\"January\" or fav_month==\"March\" or fav_month==\"May\" or fav_month==\"July\" or fav_month==\"August\" or fav_month==\"October\" or fav_month==\"December\":\n",
        "    print(f\"\\nYour month of interest {fav_month} has 31 days\")\n",
        "  elif fav_month==\"April\" or fav_month==\"June\" or fav_month==\"september\" or fav_month==\"November\":\n",
        "    print(f\"\\nYour month of interest {fav_month} has 30 days\")\n",
        "  elif fav_month==\"February\":\n",
        "    print(f\"\\nYour month of interest {fav_month} has 29 days\")\n",
        "    \n",
        "monthDays(name,month,year,fav_month)"
      ],
      "execution_count": 4,
      "outputs": [
        {
          "output_type": "stream",
          "text": [
            "Enter Name: komal\n",
            "Please Enter DOB in DDMMYYYY Format: 10081996\n",
            "Please Enter Month of interest: 5\n",
            "Hi! komal\n",
            "1 2 3 4 5 6 7 8 9 10 11 12 13 14 15 16 17 18 19 20 21 22 23 24 25 26 27 28 29 30 31 "
          ],
          "name": "stdout"
        }
      ]
    }
  ]
}